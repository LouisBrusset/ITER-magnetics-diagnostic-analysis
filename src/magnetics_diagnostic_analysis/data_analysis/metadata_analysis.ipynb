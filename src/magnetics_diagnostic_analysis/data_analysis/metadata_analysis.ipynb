{
 "cells": [
  {
   "cell_type": "markdown",
   "id": "e670da3d",
   "metadata": {},
   "source": []
  },
  {
   "cell_type": "markdown",
   "id": "cef0feb4",
   "metadata": {},
   "source": [
    "import pandas as pd\n",
    "import seaborn as sns\n",
    "import matplotlib.pyplot as plt\n",
    "\n",
    "plt.rcParams[\"font.family\"] = \"sans\"\n",
    "plt.rcParams[\"font.size\"] = 8\n",
    "sns.set_palette('muted')"
   ]
  },
  {
   "cell_type": "code",
   "execution_count": null,
   "id": "543e9213",
   "metadata": {},
   "outputs": [],
   "source": [
    "summary = pd.read_parquet('https://mastapp.site/parquet/level2/shots')\n",
    "summary = summary.loc[summary.shot_id <40000]\n",
    "summary"
   ]
  },
  {
   "cell_type": "code",
   "execution_count": null,
   "id": "8f29bdbf",
   "metadata": {},
   "outputs": [],
   "source": []
  },
  {
   "cell_type": "code",
   "execution_count": null,
   "id": "0a156d7f",
   "metadata": {},
   "outputs": [],
   "source": []
  }
 ],
 "metadata": {
  "language_info": {
   "name": "python"
  }
 },
 "nbformat": 4,
 "nbformat_minor": 5
}
